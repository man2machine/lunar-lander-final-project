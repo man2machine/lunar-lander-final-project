{
 "cells": [
  {
   "cell_type": "code",
   "execution_count": null,
   "id": "08aff192",
   "metadata": {},
   "outputs": [],
   "source": [
    "from lander.ppo import *"
   ]
  },
  {
   "cell_type": "code",
   "execution_count": null,
   "id": "2f4a565a",
   "metadata": {},
   "outputs": [],
   "source": [
    "env = LunarLander()"
   ]
  },
  {
   "cell_type": "code",
   "execution_count": null,
   "id": "7f6ddce3",
   "metadata": {},
   "outputs": [],
   "source": [
    "model = get_ppo_model(env)"
   ]
  },
  {
   "cell_type": "code",
   "execution_count": null,
   "id": "7f2ea8d7",
   "metadata": {},
   "outputs": [],
   "source": [
    "model.learn(total_timesteps=4500000, callback=ProgressBar())"
   ]
  },
  {
   "cell_type": "code",
   "execution_count": null,
   "id": "0e878532",
   "metadata": {},
   "outputs": [],
   "source": [
    "model.save(\"ppo_model_final.zip\")"
   ]
  },
  {
   "cell_type": "code",
   "execution_count": null,
   "id": "1ad2a41b",
   "metadata": {},
   "outputs": [],
   "source": [
    "obs = env.get_state()\n",
    "for i in range(10000):\n",
    "    action, _states = model.predict(obs, deterministic=True)\n",
    "    obs, reward, done, info = env.step(action)\n",
    "    env.render()\n",
    "    if i % 20 == 0 or done:\n",
    "        print(\"observations:\", \" \".join([\"{:+0.3f}\".format(x) for x in obs]))\n",
    "    if done:\n",
    "        obs = env.reset()\n",
    "\n",
    "env.close()"
   ]
  },
  {
   "cell_type": "code",
   "execution_count": null,
   "id": "5c45a01b",
   "metadata": {},
   "outputs": [],
   "source": []
  }
 ],
 "metadata": {
  "kernelspec": {
   "display_name": "Python 3",
   "language": "python",
   "name": "python3"
  },
  "language_info": {
   "codemirror_mode": {
    "name": "ipython",
    "version": 3
   },
   "file_extension": ".py",
   "mimetype": "text/x-python",
   "name": "python",
   "nbconvert_exporter": "python",
   "pygments_lexer": "ipython3",
   "version": "3.8.8"
  }
 },
 "nbformat": 4,
 "nbformat_minor": 5
}
