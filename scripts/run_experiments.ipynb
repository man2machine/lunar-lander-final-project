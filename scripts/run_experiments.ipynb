{
 "cells": [
  {
   "cell_type": "code",
   "execution_count": null,
   "id": "08aff192",
   "metadata": {},
   "outputs": [],
   "source": [
    "from lander.experiments import *\n",
    "from lander.ppo import *"
   ]
  },
  {
   "cell_type": "code",
   "execution_count": null,
   "id": "7f6ddce3",
   "metadata": {},
   "outputs": [],
   "source": [
    "ilqr_runners = run_ilqr_experiments()"
   ]
  },
  {
   "cell_type": "code",
   "execution_count": null,
   "id": "245829bf",
   "metadata": {},
   "outputs": [],
   "source": [
    "save_runner_metrics(ilqr_runners, \"ilqr_results.json\")"
   ]
  },
  {
   "cell_type": "code",
   "execution_count": null,
   "id": "5c45a01b",
   "metadata": {},
   "outputs": [],
   "source": [
    "print(\"ILQR Stats\")\n",
    "calc_stats(ilqr_runners)"
   ]
  },
  {
   "cell_type": "code",
   "execution_count": null,
   "id": "389e0dfd",
   "metadata": {},
   "outputs": [],
   "source": [
    "model = get_ppo_model()\n",
    "model.load(\"ppo_model_final.zip\")"
   ]
  },
  {
   "cell_type": "code",
   "execution_count": null,
   "id": "52abe4f1",
   "metadata": {},
   "outputs": [],
   "source": [
    "rl_runners = run_rl_experiments(model)"
   ]
  },
  {
   "cell_type": "code",
   "execution_count": null,
   "id": "c6a608f1",
   "metadata": {},
   "outputs": [],
   "source": [
    "save_runner_metrics(ilqr_runners, \"rl_results.json\")"
   ]
  },
  {
   "cell_type": "code",
   "execution_count": null,
   "id": "b952bb59",
   "metadata": {},
   "outputs": [],
   "source": [
    "print(\"RL Stats\")\n",
    "calc_stats(rl_runners)"
   ]
  }
 ],
 "metadata": {
  "kernelspec": {
   "display_name": "Python 3",
   "language": "python",
   "name": "python3"
  },
  "language_info": {
   "codemirror_mode": {
    "name": "ipython",
    "version": 3
   },
   "file_extension": ".py",
   "mimetype": "text/x-python",
   "name": "python",
   "nbconvert_exporter": "python",
   "pygments_lexer": "ipython3",
   "version": "3.8.8"
  }
 },
 "nbformat": 4,
 "nbformat_minor": 5
}
