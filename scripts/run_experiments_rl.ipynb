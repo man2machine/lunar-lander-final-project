{
 "cells": [
  {
   "cell_type": "code",
   "execution_count": null,
   "id": "7e5e49ed",
   "metadata": {},
   "outputs": [],
   "source": [
    "from lander.experiments import *"
   ]
  },
  {
   "cell_type": "code",
   "execution_count": null,
   "id": "d25ae9cb",
   "metadata": {},
   "outputs": [],
   "source": [
    "model = get_ppo_model()\n",
    "model.load(\"ppo_model_final.zip\")"
   ]
  },
  {
   "cell_type": "code",
   "execution_count": null,
   "id": "9a48a6b8",
   "metadata": {},
   "outputs": [],
   "source": [
    "rl_runners = run_rl_experiments(model)"
   ]
  },
  {
   "cell_type": "code",
   "execution_count": null,
   "id": "4ebe912f",
   "metadata": {},
   "outputs": [],
   "source": [
    "save_runner_metrics(ilqr_runners, \"rl_results.json\")"
   ]
  },
  {
   "cell_type": "code",
   "execution_count": null,
   "id": "ac0a7ed2",
   "metadata": {},
   "outputs": [],
   "source": [
    "print(\"RL Stats\")\n",
    "out = calc_stats(rl_runners)"
   ]
  },
  {
   "cell_type": "code",
   "execution_count": null,
   "id": "da5d476d",
   "metadata": {},
   "outputs": [],
   "source": []
  }
 ],
 "metadata": {
  "kernelspec": {
   "display_name": "Python 3",
   "language": "python",
   "name": "python3"
  },
  "language_info": {
   "codemirror_mode": {
    "name": "ipython",
    "version": 3
   },
   "file_extension": ".py",
   "mimetype": "text/x-python",
   "name": "python",
   "nbconvert_exporter": "python",
   "pygments_lexer": "ipython3",
   "version": "3.8.8"
  }
 },
 "nbformat": 4,
 "nbformat_minor": 5
}
