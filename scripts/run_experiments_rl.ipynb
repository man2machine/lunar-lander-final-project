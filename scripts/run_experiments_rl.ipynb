{
 "cells": [
  {
   "cell_type": "code",
   "execution_count": 1,
   "id": "7e5e49ed",
   "metadata": {},
   "outputs": [],
   "source": [
    "from lander.experiments import *\n",
    "from lander.ppo  import *"
   ]
  },
  {
   "cell_type": "code",
   "execution_count": 2,
   "id": "46f9b3ea",
   "metadata": {},
   "outputs": [],
   "source": [
    "env = LunarLander()"
   ]
  },
  {
   "cell_type": "code",
   "execution_count": 12,
   "id": "d25ae9cb",
   "metadata": {},
   "outputs": [],
   "source": [
    "model = get_ppo_model(env)\n",
    "model.load(\"ppo_model.zip\")\n",
    "policy = RLPolicyWrapper(model)"
   ]
  },
  {
   "cell_type": "code",
   "execution_count": 13,
   "id": "9a48a6b8",
   "metadata": {},
   "outputs": [
    {
     "name": "stderr",
     "output_type": "stream",
     "text": [
      "100%|██████████████████████████████████████████████████████████████████████████████████| 50/50 [00:05<00:00,  9.46it/s]\n"
     ]
    }
   ],
   "source": [
    "rl_runners = run_rl_experiments(policy, 50)"
   ]
  },
  {
   "cell_type": "code",
   "execution_count": 14,
   "id": "4ebe912f",
   "metadata": {},
   "outputs": [],
   "source": [
    "save_runner_metrics(rl_runners, \"rl_results.json\")"
   ]
  },
  {
   "cell_type": "code",
   "execution_count": 15,
   "id": "ac0a7ed2",
   "metadata": {},
   "outputs": [
    {
     "name": "stdout",
     "output_type": "stream",
     "text": [
      "RL Stats\n",
      "Averages\n",
      "{'inside_helipad': 0.20408163265306123, 'land_upright': 0.40816326530612246, 'land_slowly': 0.0, 'touched_ground': 0.9591836734693877, 'out_of_bounds': 0.04081632653061224, 'num_steps': 100.44897959183673, 'end_state': array([-1.03586539e+01,  4.34680328e+00,  1.79885625e+01, -3.14376344e+02,\n",
      "       -1.47017336e-01, -1.56976080e-01]), 'total_reward': -156.57142857142858, 'total_fuel': 2026.971754574242}\n"
     ]
    },
    {
     "data": {
      "image/png": "[encoded data removed]",
      "text/plain": [
       "<Figure size 432x288 with 1 Axes>"
      ]
     },
     "metadata": {
      "needs_background": "light"
     },
     "output_type": "display_data"
    },
    {
     "data": {
      "image/png": "[encoded data removed]",
      "text/plain": [
       "<Figure size 432x288 with 1 Axes>"
      ]
     },
     "metadata": {
      "needs_background": "light"
     },
     "output_type": "display_data"
    }
   ],
   "source": [
    "print(\"RL Stats\")\n",
    "out = calc_stats(rl_runners)"
   ]
  },
  {
   "cell_type": "code",
   "execution_count": null,
   "id": "da5d476d",
   "metadata": {},
   "outputs": [],
   "source": []
  },
  {
   "cell_type": "code",
   "execution_count": null,
   "id": "b0aae6a3",
   "metadata": {},
   "outputs": [],
   "source": []
  }
 ],
 "metadata": {
  "kernelspec": {
   "display_name": "Python 3",
   "language": "python",
   "name": "python3"
  },
  "language_info": {
   "codemirror_mode": {
    "name": "ipython",
    "version": 3
   },
   "file_extension": ".py",
   "mimetype": "text/x-python",
   "name": "python",
   "nbconvert_exporter": "python",
   "pygments_lexer": "ipython3",
   "version": "3.8.8"
  }
 },
 "nbformat": 4,
 "nbformat_minor": 5
}
